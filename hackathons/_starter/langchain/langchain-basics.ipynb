{
 "cells": [
  {
   "cell_type": "markdown",
   "metadata": {},
   "source": [
    "# LangChain Basics\n",
    "LangChain is a framework for building applications with AI that abstracts away the complexity of the underlying AI models.\n",
    "\n",
    "It can give you a lot of flexibility and power without having to write a lot of code."
   ]
  },
  {
   "cell_type": "code",
   "execution_count": 1,
   "metadata": {},
   "outputs": [
    {
     "data": {
      "text/plain": [
       "True"
      ]
     },
     "execution_count": 1,
     "metadata": {},
     "output_type": "execute_result"
    }
   ],
   "source": [
    "import os\n",
    "from dotenv import load_dotenv\n",
    "from langchain_openai import AzureOpenAI, OpenAI\n",
    "from langchain.chat_models import init_chat_model\n",
    "\n",
    "load_dotenv()"
   ]
  },
  {
   "cell_type": "markdown",
   "metadata": {},
   "source": [
    "# Interchangeability of LLMs\n",
    "LangChain allows you to use different LLMs interchangeably with minimal code changes."
   ]
  },
  {
   "cell_type": "markdown",
   "metadata": {},
   "source": [
    "## Azure OpenAI"
   ]
  },
  {
   "cell_type": "code",
   "execution_count": 2,
   "metadata": {},
   "outputs": [],
   "source": [
    "azureModel = init_chat_model(\n",
    "    \"gpt-4.1-mini\",\n",
    "    model_provider=\"azure_openai\"\n",
    ")"
   ]
  },
  {
   "cell_type": "markdown",
   "metadata": {},
   "source": [
    "## Direct OpenAI"
   ]
  },
  {
   "cell_type": "code",
   "execution_count": 3,
   "metadata": {},
   "outputs": [],
   "source": [
    "openaiModel = init_chat_model(\"gpt-4.1-mini\", model_provider=\"openai\")"
   ]
  },
  {
   "cell_type": "markdown",
   "metadata": {},
   "source": [
    "## Google AI Studio"
   ]
  },
  {
   "cell_type": "code",
   "execution_count": 4,
   "metadata": {},
   "outputs": [],
   "source": [
    "googleModel = init_chat_model(\"gemini-2.5-flash\", model_provider=\"google_genai\")"
   ]
  },
  {
   "cell_type": "markdown",
   "metadata": {},
   "source": [
    "## Change model provider\n",
    "We can easily change to Azure OpenAI by changing only the used model.\n",
    "\n",
    "### Azure example:"
   ]
  },
  {
   "cell_type": "code",
   "execution_count": 5,
   "metadata": {},
   "outputs": [
    {
     "name": "stdout",
     "output_type": "stream",
     "text": [
      "Sure! Here's a joke about AI for you:\n",
      "\n",
      "Why did the AI go to art school?\n",
      "\n",
      "Because it wanted to learn how to draw better conclusions!\n"
     ]
    }
   ],
   "source": [
    "response = azureModel.invoke(\"Tell me a joke about AI.\")\n",
    "\n",
    "response_text = response.content\n",
    "\n",
    "print(response_text)"
   ]
  },
  {
   "cell_type": "markdown",
   "metadata": {},
   "source": [
    "### OpenAI example:"
   ]
  },
  {
   "cell_type": "code",
   "execution_count": 6,
   "metadata": {},
   "outputs": [
    {
     "name": "stdout",
     "output_type": "stream",
     "text": [
      "Why did the AI go to art school?\n",
      "\n",
      "Because it wanted to learn how to draw its own conclusions!\n"
     ]
    }
   ],
   "source": [
    "response = openaiModel.invoke(\"Tell me a joke about AI.\")\n",
    "\n",
    "response_text = response.content\n",
    "\n",
    "print(response_text)"
   ]
  },
  {
   "cell_type": "markdown",
   "metadata": {},
   "source": [
    "### Google AI example:"
   ]
  },
  {
   "cell_type": "code",
   "execution_count": 7,
   "metadata": {},
   "outputs": [
    {
     "name": "stdout",
     "output_type": "stream",
     "text": [
      "Why did the AI go to therapy?\n",
      "\n",
      "Because it had too many *unresolved algorithms*!\n"
     ]
    }
   ],
   "source": [
    "response = googleModel.invoke(\"Tell me a joke about AI.\")\n",
    "\n",
    "response_text = response.content\n",
    "\n",
    "print(response_text)"
   ]
  }
 ],
 "metadata": {
  "kernelspec": {
   "display_name": "base",
   "language": "python",
   "name": "python3"
  },
  "language_info": {
   "codemirror_mode": {
    "name": "ipython",
    "version": 3
   },
   "file_extension": ".py",
   "mimetype": "text/x-python",
   "name": "python",
   "nbconvert_exporter": "python",
   "pygments_lexer": "ipython3",
   "version": "3.11.4"
  }
 },
 "nbformat": 4,
 "nbformat_minor": 2
}
